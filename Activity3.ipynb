{
  "nbformat": 4,
  "nbformat_minor": 0,
  "metadata": {
    "colab": {
      "provenance": [],
      "authorship_tag": "ABX9TyPeiJgt8AJjQZeEQUlT9t19",
      "include_colab_link": true
    },
    "kernelspec": {
      "name": "python3",
      "display_name": "Python 3"
    },
    "language_info": {
      "name": "python"
    }
  },
  "cells": [
    {
      "cell_type": "markdown",
      "metadata": {
        "id": "view-in-github",
        "colab_type": "text"
      },
      "source": [
        "<a href=\"https://colab.research.google.com/github/alammobaDar/Data_Scraping/blob/main/Activity3.ipynb\" target=\"_parent\"><img src=\"https://colab.research.google.com/assets/colab-badge.svg\" alt=\"Open In Colab\"/></a>"
      ]
    },
    {
      "cell_type": "markdown",
      "source": [
        "# ***INSTALL LIBRARIES***"
      ],
      "metadata": {
        "id": "UzPV4EnoA5eM"
      }
    },
    {
      "cell_type": "code",
      "execution_count": 1,
      "metadata": {
        "colab": {
          "base_uri": "https://localhost:8080/"
        },
        "id": "PxD8s4mlA0dT",
        "outputId": "074da8cf-b8fb-48b1-e6aa-933c62a5d6c5"
      },
      "outputs": [
        {
          "output_type": "stream",
          "name": "stdout",
          "text": [
            "Requirement already satisfied: requests in /usr/local/lib/python3.10/dist-packages (2.31.0)\n",
            "Requirement already satisfied: charset-normalizer<4,>=2 in /usr/local/lib/python3.10/dist-packages (from requests) (3.3.2)\n",
            "Requirement already satisfied: idna<4,>=2.5 in /usr/local/lib/python3.10/dist-packages (from requests) (3.7)\n",
            "Requirement already satisfied: urllib3<3,>=1.21.1 in /usr/local/lib/python3.10/dist-packages (from requests) (2.0.7)\n",
            "Requirement already satisfied: certifi>=2017.4.17 in /usr/local/lib/python3.10/dist-packages (from requests) (2024.7.4)\n",
            "Requirement already satisfied: beautifulsoup4 in /usr/local/lib/python3.10/dist-packages (4.12.3)\n",
            "Requirement already satisfied: soupsieve>1.2 in /usr/local/lib/python3.10/dist-packages (from beautifulsoup4) (2.5)\n",
            "Requirement already satisfied: pandas in /usr/local/lib/python3.10/dist-packages (2.1.4)\n",
            "Requirement already satisfied: numpy<2,>=1.22.4 in /usr/local/lib/python3.10/dist-packages (from pandas) (1.26.4)\n",
            "Requirement already satisfied: python-dateutil>=2.8.2 in /usr/local/lib/python3.10/dist-packages (from pandas) (2.8.2)\n",
            "Requirement already satisfied: pytz>=2020.1 in /usr/local/lib/python3.10/dist-packages (from pandas) (2024.1)\n",
            "Requirement already satisfied: tzdata>=2022.1 in /usr/local/lib/python3.10/dist-packages (from pandas) (2024.1)\n",
            "Requirement already satisfied: six>=1.5 in /usr/local/lib/python3.10/dist-packages (from python-dateutil>=2.8.2->pandas) (1.16.0)\n"
          ]
        }
      ],
      "source": [
        "!pip install requests\n",
        "!pip install beautifulsoup4\n",
        "!pip install pandas"
      ]
    },
    {
      "cell_type": "markdown",
      "source": [
        "# ***IMPORT LIBRARIES***"
      ],
      "metadata": {
        "id": "b-XYLrR3CPOj"
      }
    },
    {
      "cell_type": "code",
      "source": [
        "import requests\n",
        "from bs4 import BeautifulSoup\n",
        "import pandas as pd\n",
        "import time\n",
        "from requests.adapters import HTTPAdapter\n",
        "from requests.packages.urllib3.util.retry import Retry\n",
        "import re"
      ],
      "metadata": {
        "id": "knNfvNIwCVGJ"
      },
      "execution_count": 41,
      "outputs": []
    },
    {
      "cell_type": "markdown",
      "source": [
        "# ***DATA EXTRACTION AND CLEANING***"
      ],
      "metadata": {
        "id": "5ZK2YptKDQX4"
      }
    },
    {
      "cell_type": "code",
      "source": [
        "urls = [\n",
        "    'https://www.cbr.com/captain-americas-best-worst-traits/',\n",
        "    'https://screenrant.com/captain-america-mcu-character-traits/',\n",
        "    'https://www.sideshow.com/blog/the-top-10-captain-america-quotes-in-the-mcu/',\n",
        "]\n",
        "\n",
        "def clean_text(text):\n",
        "    unwanted_patterns = [\n",
        "        r'Want \\$\\d+ off\\?Sign up for the newsletter',\n",
        "        r'\\d+',  # Remove numbers\n",
        "        r'Best: ',  # Remove 'Best: ' text\n",
        "        r'Worst:',  # Remove 'Worst: ' text\n",
        "        r'“',\n",
        "        r'”',\n",
        "    ]\n",
        "    for pattern in unwanted_patterns:\n",
        "        text = re.sub(pattern, '', text)\n",
        "    return text.strip()\n",
        "\n",
        "def extract_data(url):\n",
        "    headers = {\n",
        "        'User-Agent': 'Mozilla/5.0 (Windows NT 10.0; Win64; x64) AppleWebKit/537.36 (KHTML, like Gecko) Chrome/127.0.0.0 Safari/537.36'\n",
        "    }\n",
        "    response = requests.get(url, headers=headers)\n",
        "    time.sleep(2)\n",
        "    if response.status_code == 200:\n",
        "        soup = BeautifulSoup(response.text, 'html.parser')\n",
        "        h2_tags = soup.find_all('h2')\n",
        "        info = []\n",
        "        for h2 in h2_tags:\n",
        "            text = h2.get_text(strip=True)\n",
        "            cleaned_text = clean_text(text)\n",
        "\n",
        "            # Only add non-empty strings\n",
        "            if cleaned_text:\n",
        "                info.append(cleaned_text)\n",
        "\n",
        "        return info\n",
        "    else:\n",
        "        print(f\"Failed to retrieve the page. Status code: {response.status_code}\")\n",
        "        return None\n",
        "\n",
        "data = [extract_data(url) for url in urls]\n",
        "flat_data = [item for sublist in data if sublist for item in sublist]\n",
        "\n",
        "# Create a DataFrame with each item as a row\n",
        "df_info = pd.DataFrame(flat_data, columns=['Info'])\n",
        "df_info.to_csv('captain_america_personality.csv', index=False)\n",
        "\n",
        "print(df_info)"
      ],
      "metadata": {
        "colab": {
          "base_uri": "https://localhost:8080/"
        },
        "id": "zIM6miA0DUwJ",
        "outputId": "4684a802-caf2-4b80-90f3-7f24b4b8c7d3"
      },
      "execution_count": 109,
      "outputs": [
        {
          "output_type": "stream",
          "name": "stdout",
          "text": [
            "                                                 Info\n",
            "0                                       Sense of Duty\n",
            "1                                     Outdated Ideals\n",
            "2                                            Humility\n",
            "3                                     Pride In Battle\n",
            "4                         Honest and Straight Forward\n",
            "5                                     He's A Bad Liar\n",
            "6                                      Protectiveness\n",
            "7                                 Attachment To Bucky\n",
            "8                 Willingness To Do Whatever It Takes\n",
            "9                         Doesn't See The Big Picture\n",
            "10                         He Was Incredibly Stubborn\n",
            "11                            He Was Remarkably Brave\n",
            "12                               He Was Compassionate\n",
            "13                  He Was Rational And Down To Earth\n",
            "14                                  He Was Perceptive\n",
            "15                            He Was A Natural Leader\n",
            "16                          He Was Awkward With Women\n",
            "17                         He Thought Outside The Box\n",
            "18              He Valued Friendship Above Everything\n",
            "19                          He Saw The Bigger Picture\n",
            "20  I don’t like bullies; I don’t care where they’...\n",
            "21                                      On your left.\n",
            "22                      I’m just a kid from Brooklyn.\n",
            "23                                          Language!\n",
            "24                               ThatisAmerica’s ass.\n",
            "25                             I can do this all day.\n",
            "26             I’m with you ’til the end of the line.\n",
            "27  I’m not looking for forgiveness, and I’m way p...\n",
            "28                                Avengers! Assemble.\n",
            "29  Compromise where you can. Where you can’t, don...\n"
          ]
        }
      ]
    },
    {
      "cell_type": "markdown",
      "source": [
        "# ***ANOTHER WEBSITE***"
      ],
      "metadata": {
        "id": "Fq_6RLczPh7C"
      }
    },
    {
      "cell_type": "markdown",
      "source": [],
      "metadata": {
        "id": "HYYYGqS4gJrq"
      }
    },
    {
      "cell_type": "code",
      "source": [
        "urls = [\n",
        "    'https://everydaypower.com/captain-america-quotes/'\n",
        "]\n",
        "\n",
        "def clean_text(text):\n",
        "    unwanted_patterns = [\n",
        "        r'– Steve Rogers \\(Captain America\\)',\n",
        "        r'You will also enjoy our article on[^.]*\\.',\n",
        "        r'\\d+. ',\n",
        "        r'Check out our collection ofCaptain Price quotesif you enjoy this article.',\n",
        "        r'Don’t forget to also check out thesePennywise quotesfrom the scariest clown of all.',\n",
        "        r'“',\n",
        "        r'”',\n",
        "\n",
        "\n",
        "    ]\n",
        "    for pattern in unwanted_patterns:\n",
        "        text = re.sub(pattern, '', text)\n",
        "    return text\n",
        "\n",
        "def extract_data(url):\n",
        "    headers = {\n",
        "        'User-Agent': 'Mozilla/5.0 (Windows NT 10.0; Win64; x64) AppleWebKit/537.36 (KHTML, like Gecko) Chrome/91.0.4472.124 Safari/537.36'\n",
        "    }\n",
        "    response = requests.get(url, headers=headers)\n",
        "    time.sleep(2)\n",
        "    if response.status_code == 200:\n",
        "        soup = BeautifulSoup(response.text, 'html.parser')\n",
        "        h2_tags = soup.find_all('h2')\n",
        "        info = []\n",
        "        for h2 in h2_tags:\n",
        "            if h2.get('id') == \"h-what-s-your-favorite-captain-america-movie-nbsp\" or h2.get('id') == \"h-are-you-an-avid-comic-book-reader\":\n",
        "                continue\n",
        "            next_sibling = h2.find_next_sibling()\n",
        "            while next_sibling and next_sibling.name != 'h2':\n",
        "                if next_sibling.name == 'p':\n",
        "                    text = next_sibling.get_text(strip=True)\n",
        "                    cleaned_text = clean_text(text)\n",
        "                    if cleaned_text:\n",
        "                        info.append(cleaned_text)\n",
        "                next_sibling = next_sibling.find_next_sibling()\n",
        "        return info\n",
        "    else:\n",
        "        print(f\"Failed to retrieve the page. Status code: {response.status_code}\")\n",
        "        return None\n",
        "\n",
        "data = [extract_data(url) for url in urls]\n",
        "flat_data = [item for sublist in data if sublist for item in sublist]\n",
        "\n",
        "# Create a DataFrame with each item as a row\n",
        "df_info = pd.DataFrame(flat_data, columns=['Info'])\n",
        "df_info.to_csv('captain_america_quotes.csv', index=False)\n",
        "print(df_info)"
      ],
      "metadata": {
        "colab": {
          "base_uri": "https://localhost:8080/"
        },
        "id": "A16yoqO1Pb0b",
        "outputId": "6100a53d-8d01-4b2e-e6e9-096cd5fcaa99"
      },
      "execution_count": 108,
      "outputs": [
        {
          "output_type": "stream",
          "name": "stdout",
          "text": [
            "                                                 Info\n",
            "0   I don’t want to kill anyone. I don’t like bull...\n",
            "1                    The hell I can’t! I’m a Captain!\n",
            "2              I knocked out Adolf Hitler over times.\n",
            "3   It’s probably too late to go to the bathroom, ...\n",
            "4                               I’m… Captain America.\n",
            "5   I know this neighborhood. I got beat up in tha...\n",
            "6   Dr. Erskine said that the serum wouldn’t just ...\n",
            "7   You ready to follow Captain America into the j...\n",
            "8   You know for the longest time I dreamed about ...\n",
            "9   Where I’m goin’, if anybody yells at me I can ...\n",
            "10  You start running, they’ll never let you stop....\n",
            "11  There are men laying down their lives. I got n...\n",
            "12  I think this is the longest conversation I’ve ...\n",
            "13  Before we get started, does anyone want to get...\n",
            "14  The price of freedom is high. It always has be...\n",
            "15   It was not my first kiss since I’m I’m not dead.\n",
            "16  Soldiers trust each other. That’s what makes i...\n",
            "17              Even when I had nothing, I had Bucky.\n",
            "18  You just can’t stop yourself from lying, can you?\n",
            "19           If they’re shooting at you, they’re bad.\n",
            "20  Yeah, we compromised. Sometimes in ways that m...\n",
            "21  If you’re gonna fight a war, you got to wear a...\n",
            "22  For as long as I can remember, I just wanted t...\n",
            "23  Well, things aren’t so bad. Food’s a lot bette...\n",
            "24  There’s a chance you might be in the wrong bus...\n"
          ]
        }
      ]
    },
    {
      "cell_type": "markdown",
      "source": [
        "# ***MERGE TWO DATASETS***"
      ],
      "metadata": {
        "id": "eq5U2GH4gb9i"
      }
    },
    {
      "cell_type": "code",
      "source": [
        "import pandas as pd\n",
        "import csv  # Import the csv module for quoting options\n",
        "\n",
        "# Load data from CSV files\n",
        "df_info_01 = pd.read_csv('captain_america_personality.csv')\n",
        "df_info_02 = pd.read_csv('captain_america_quotes.csv')\n",
        "\n",
        "# Concatenate the DataFrames\n",
        "df_merged = pd.concat([df_info_01, df_info_02], ignore_index=True)\n",
        "\n",
        "# Set custom index\n",
        "df_merged.index = [f\"{i+1}.\" for i in range(len(df_merged))]\n",
        "\n",
        "# Save DataFrame to TXT file with custom separator and without quotation marks\n",
        "df_merged.to_csv(\n",
        "    'captain_america_dataset_personality.txt',\n",
        "    sep='\\t',                # Use a single space as the column separator\n",
        "    index=True,            # Include the DataFrame index\n",
        "    header=False,          # Exclude column names\n",
        "    quoting=csv.QUOTE_NONE  # Disable quoting of strings\n",
        ")\n",
        "\n",
        "print(df_merged)\n"
      ],
      "metadata": {
        "colab": {
          "base_uri": "https://localhost:8080/"
        },
        "id": "ULO99KNPg0UA",
        "outputId": "ffd91854-73be-40d2-f1e3-e42f304a1d63"
      },
      "execution_count": 128,
      "outputs": [
        {
          "output_type": "stream",
          "name": "stdout",
          "text": [
            "                                                  Info\n",
            "1.                                       Sense of Duty\n",
            "2.                                     Outdated Ideals\n",
            "3.                                            Humility\n",
            "4.                                     Pride In Battle\n",
            "5.                         Honest and Straight Forward\n",
            "6.                                     He's A Bad Liar\n",
            "7.                                      Protectiveness\n",
            "8.                                 Attachment To Bucky\n",
            "9.                 Willingness To Do Whatever It Takes\n",
            "10.                        Doesn't See The Big Picture\n",
            "11.                         He Was Incredibly Stubborn\n",
            "12.                            He Was Remarkably Brave\n",
            "13.                               He Was Compassionate\n",
            "14.                  He Was Rational And Down To Earth\n",
            "15.                                  He Was Perceptive\n",
            "16.                            He Was A Natural Leader\n",
            "17.                          He Was Awkward With Women\n",
            "18.                         He Thought Outside The Box\n",
            "19.              He Valued Friendship Above Everything\n",
            "20.                          He Saw The Bigger Picture\n",
            "21.  I don’t like bullies; I don’t care where they’...\n",
            "22.                                      On your left.\n",
            "23.                      I’m just a kid from Brooklyn.\n",
            "24.                                          Language!\n",
            "25.                               ThatisAmerica’s ass.\n",
            "26.                             I can do this all day.\n",
            "27.             I’m with you ’til the end of the line.\n",
            "28.  I’m not looking for forgiveness, and I’m way p...\n",
            "29.                                Avengers! Assemble.\n",
            "30.  Compromise where you can. Where you can’t, don...\n",
            "31.  I don’t want to kill anyone. I don’t like bull...\n",
            "32.                   The hell I can’t! I’m a Captain!\n",
            "33.             I knocked out Adolf Hitler over times.\n",
            "34.  It’s probably too late to go to the bathroom, ...\n",
            "35.                              I’m… Captain America.\n",
            "36.  I know this neighborhood. I got beat up in tha...\n",
            "37.  Dr. Erskine said that the serum wouldn’t just ...\n",
            "38.  You ready to follow Captain America into the j...\n",
            "39.  You know for the longest time I dreamed about ...\n",
            "40.  Where I’m goin’, if anybody yells at me I can ...\n",
            "41.  You start running, they’ll never let you stop....\n",
            "42.  There are men laying down their lives. I got n...\n",
            "43.  I think this is the longest conversation I’ve ...\n",
            "44.  Before we get started, does anyone want to get...\n",
            "45.  The price of freedom is high. It always has be...\n",
            "46.   It was not my first kiss since I’m I’m not dead.\n",
            "47.  Soldiers trust each other. That’s what makes i...\n",
            "48.              Even when I had nothing, I had Bucky.\n",
            "49.  You just can’t stop yourself from lying, can you?\n",
            "50.           If they’re shooting at you, they’re bad.\n",
            "51.  Yeah, we compromised. Sometimes in ways that m...\n",
            "52.  If you’re gonna fight a war, you got to wear a...\n",
            "53.  For as long as I can remember, I just wanted t...\n",
            "54.  Well, things aren’t so bad. Food’s a lot bette...\n",
            "55.  There’s a chance you might be in the wrong bus...\n"
          ]
        }
      ]
    }
  ]
}